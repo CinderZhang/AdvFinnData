{
  "cells": [
    {
      "cell_type": "markdown",
      "metadata": {
        "id": "8pIhzXJrmVK2"
      },
      "source": [
        "[SMA Strategy](https://www.fidelity.com/viewpoints/active-investor/moving-averages#:~:text=A%20buy%20signal%20is%20generated,a%20200%2Dday%20moving%20average.)\n",
        "\n",
        "[Reference](https://kernc.github.io/backtesting.py/doc/examples/Quick%20Start%20User%20Guide.html)\n",
        "\n",
        "\n",
        "[Connect to WRDS](https://github.com/CinderZhang/FinnData/blob/main/WRDS.py)"
      ]
    },
    {
      "cell_type": "code",
      "execution_count": 1,
      "metadata": {
        "colab": {
          "base_uri": "https://localhost:8080/"
        },
        "id": "teLYGh8cjM7C",
        "outputId": "f32b89c1-6bc1-4824-8ab0-3d80b1e28a6d"
      },
      "outputs": [
        {
          "name": "stdout",
          "output_type": "stream",
          "text": [
            "Defaulting to user installation because normal site-packages is not writeable\n",
            "Collecting backtesting\n",
            "  Downloading Backtesting-0.3.3.tar.gz (175 kB)\n",
            "     ---------------------------------------- 0.0/175.5 kB ? eta -:--:--\n",
            "     ---------------------------------------- 0.0/175.5 kB ? eta -:--:--\n",
            "     -- ------------------------------------- 10.2/175.5 kB ? eta -:--:--\n",
            "     -- ------------------------------------- 10.2/175.5 kB ? eta -:--:--\n",
            "     ------ ------------------------------ 30.7/175.5 kB 217.9 kB/s eta 0:00:01\n",
            "     ------------ ------------------------ 61.4/175.5 kB 297.7 kB/s eta 0:00:01\n",
            "     ------------------- ----------------- 92.2/175.5 kB 374.1 kB/s eta 0:00:01\n",
            "     ------------------------- ---------- 122.9/175.5 kB 450.6 kB/s eta 0:00:01\n",
            "     --------------------------------- -- 163.8/175.5 kB 517.2 kB/s eta 0:00:01\n",
            "     ------------------------------------ 175.5/175.5 kB 480.4 kB/s eta 0:00:00\n",
            "  Installing build dependencies: started\n",
            "  Installing build dependencies: finished with status 'done'\n",
            "  Getting requirements to build wheel: started\n",
            "  Getting requirements to build wheel: finished with status 'done'\n",
            "  Installing backend dependencies: started\n",
            "  Installing backend dependencies: finished with status 'done'\n",
            "  Preparing metadata (pyproject.toml): started\n",
            "  Preparing metadata (pyproject.toml): finished with status 'done'\n",
            "Requirement already satisfied: numpy>=1.17.0 in c:\\users\\xz035\\appdata\\roaming\\python\\python312\\site-packages (from backtesting) (1.26.1)\n",
            "Requirement already satisfied: pandas!=0.25.0,>=0.25.0 in c:\\users\\xz035\\appdata\\roaming\\python\\python312\\site-packages (from backtesting) (2.1.2)\n",
            "Collecting bokeh>=1.4.0 (from backtesting)\n",
            "  Obtaining dependency information for bokeh>=1.4.0 from https://files.pythonhosted.org/packages/d8/7b/74b234af7fca8c688c46f63fec30665b0c3c1f3eac2da756306691aee122/bokeh-3.3.0-py3-none-any.whl.metadata\n",
            "  Downloading bokeh-3.3.0-py3-none-any.whl.metadata (12 kB)\n",
            "Collecting Jinja2>=2.9 (from bokeh>=1.4.0->backtesting)\n",
            "  Using cached Jinja2-3.1.2-py3-none-any.whl (133 kB)\n",
            "Requirement already satisfied: contourpy>=1 in c:\\users\\xz035\\appdata\\roaming\\python\\python312\\site-packages (from bokeh>=1.4.0->backtesting) (1.1.1)\n",
            "Requirement already satisfied: packaging>=16.8 in c:\\users\\xz035\\appdata\\roaming\\python\\python312\\site-packages (from bokeh>=1.4.0->backtesting) (23.2)\n",
            "Requirement already satisfied: pillow>=7.1.0 in c:\\users\\xz035\\appdata\\roaming\\python\\python312\\site-packages (from bokeh>=1.4.0->backtesting) (10.1.0)\n",
            "Collecting PyYAML>=3.10 (from bokeh>=1.4.0->backtesting)\n",
            "  Obtaining dependency information for PyYAML>=3.10 from https://files.pythonhosted.org/packages/2b/9f/fbade56564ad486809c27b322d0f7e6a89c01f6b4fe208402e90d4443a99/PyYAML-6.0.1-cp312-cp312-win_amd64.whl.metadata\n",
            "  Using cached PyYAML-6.0.1-cp312-cp312-win_amd64.whl.metadata (2.1 kB)\n",
            "Requirement already satisfied: tornado>=5.1 in c:\\users\\xz035\\appdata\\roaming\\python\\python312\\site-packages (from bokeh>=1.4.0->backtesting) (6.3.3)\n",
            "Collecting xyzservices>=2021.09.1 (from bokeh>=1.4.0->backtesting)\n",
            "  Obtaining dependency information for xyzservices>=2021.09.1 from https://files.pythonhosted.org/packages/82/c3/e06dfa46464cce3eda4b86df8847cab99d9bc545c76807ee689545187a4c/xyzservices-2023.10.1-py3-none-any.whl.metadata\n",
            "  Downloading xyzservices-2023.10.1-py3-none-any.whl.metadata (4.0 kB)\n",
            "Requirement already satisfied: python-dateutil>=2.8.2 in c:\\users\\xz035\\appdata\\roaming\\python\\python312\\site-packages (from pandas!=0.25.0,>=0.25.0->backtesting) (2.8.2)\n",
            "Requirement already satisfied: pytz>=2020.1 in c:\\users\\xz035\\appdata\\roaming\\python\\python312\\site-packages (from pandas!=0.25.0,>=0.25.0->backtesting) (2023.3.post1)\n",
            "Requirement already satisfied: tzdata>=2022.1 in c:\\users\\xz035\\appdata\\roaming\\python\\python312\\site-packages (from pandas!=0.25.0,>=0.25.0->backtesting) (2023.3)\n",
            "Collecting MarkupSafe>=2.0 (from Jinja2>=2.9->bokeh>=1.4.0->backtesting)\n",
            "  Obtaining dependency information for MarkupSafe>=2.0 from https://files.pythonhosted.org/packages/44/44/dbaf65876e258facd65f586dde158387ab89963e7f2235551afc9c2e24c2/MarkupSafe-2.1.3-cp312-cp312-win_amd64.whl.metadata\n",
            "  Downloading MarkupSafe-2.1.3-cp312-cp312-win_amd64.whl.metadata (3.0 kB)\n",
            "Requirement already satisfied: six>=1.5 in c:\\users\\xz035\\appdata\\roaming\\python\\python312\\site-packages (from python-dateutil>=2.8.2->pandas!=0.25.0,>=0.25.0->backtesting) (1.16.0)\n",
            "Downloading bokeh-3.3.0-py3-none-any.whl (6.8 MB)\n",
            "   ---------------------------------------- 0.0/6.8 MB ? eta -:--:--\n",
            "    --------------------------------------- 0.1/6.8 MB 6.4 MB/s eta 0:00:02\n",
            "    --------------------------------------- 0.1/6.8 MB 6.4 MB/s eta 0:00:02\n",
            "    --------------------------------------- 0.1/6.8 MB 6.4 MB/s eta 0:00:02\n",
            "   - -------------------------------------- 0.2/6.8 MB 1.3 MB/s eta 0:00:06\n",
            "   - -------------------------------------- 0.2/6.8 MB 1.3 MB/s eta 0:00:06\n",
            "   - -------------------------------------- 0.3/6.8 MB 980.4 kB/s eta 0:00:07\n",
            "   -- ------------------------------------- 0.5/6.8 MB 1.3 MB/s eta 0:00:05\n",
            "   -- ------------------------------------- 0.5/6.8 MB 1.4 MB/s eta 0:00:05\n",
            "   --- ------------------------------------ 0.6/6.8 MB 1.4 MB/s eta 0:00:05\n",
            "   --- ------------------------------------ 0.7/6.8 MB 1.4 MB/s eta 0:00:05\n",
            "   ----- ---------------------------------- 0.9/6.8 MB 1.7 MB/s eta 0:00:04\n",
            "   ----- ---------------------------------- 1.0/6.8 MB 1.7 MB/s eta 0:00:04\n",
            "   ------ --------------------------------- 1.2/6.8 MB 1.9 MB/s eta 0:00:03\n",
            "   ------- -------------------------------- 1.2/6.8 MB 1.9 MB/s eta 0:00:03\n",
            "   -------- ------------------------------- 1.4/6.8 MB 2.0 MB/s eta 0:00:03\n",
            "   --------- ------------------------------ 1.5/6.8 MB 2.0 MB/s eta 0:00:03\n",
            "   --------- ------------------------------ 1.7/6.8 MB 2.1 MB/s eta 0:00:03\n",
            "   ---------- ----------------------------- 1.8/6.8 MB 2.2 MB/s eta 0:00:03\n",
            "   ----------- ---------------------------- 1.9/6.8 MB 2.1 MB/s eta 0:00:03\n",
            "   ----------- ---------------------------- 2.0/6.8 MB 2.1 MB/s eta 0:00:03\n",
            "   ----------- ---------------------------- 2.0/6.8 MB 2.1 MB/s eta 0:00:03\n",
            "   ------------ --------------------------- 2.1/6.8 MB 2.1 MB/s eta 0:00:03\n",
            "   ------------- -------------------------- 2.3/6.8 MB 2.1 MB/s eta 0:00:03\n",
            "   -------------- ------------------------- 2.4/6.8 MB 2.1 MB/s eta 0:00:03\n",
            "   -------------- ------------------------- 2.5/6.8 MB 2.1 MB/s eta 0:00:03\n",
            "   --------------- ------------------------ 2.6/6.8 MB 2.1 MB/s eta 0:00:02\n",
            "   ---------------- ----------------------- 2.8/6.8 MB 2.2 MB/s eta 0:00:02\n",
            "   ---------------- ----------------------- 2.8/6.8 MB 2.1 MB/s eta 0:00:02\n",
            "   ----------------- ---------------------- 2.9/6.8 MB 2.2 MB/s eta 0:00:02\n",
            "   ----------------- ---------------------- 3.1/6.8 MB 2.2 MB/s eta 0:00:02\n",
            "   ------------------ --------------------- 3.2/6.8 MB 2.2 MB/s eta 0:00:02\n",
            "   ------------------- -------------------- 3.3/6.8 MB 2.2 MB/s eta 0:00:02\n",
            "   -------------------- ------------------- 3.4/6.8 MB 2.2 MB/s eta 0:00:02\n",
            "   -------------------- ------------------- 3.5/6.8 MB 2.2 MB/s eta 0:00:02\n",
            "   -------------------- ------------------- 3.6/6.8 MB 2.2 MB/s eta 0:00:02\n",
            "   --------------------- ------------------ 3.6/6.8 MB 2.2 MB/s eta 0:00:02\n",
            "   ---------------------- ----------------- 3.8/6.8 MB 2.2 MB/s eta 0:00:02\n",
            "   ----------------------- ---------------- 4.0/6.8 MB 2.3 MB/s eta 0:00:02\n",
            "   ----------------------- ---------------- 4.0/6.8 MB 2.3 MB/s eta 0:00:02\n",
            "   -------------------------- ------------- 4.5/6.8 MB 2.4 MB/s eta 0:00:01\n",
            "   --------------------------- ------------ 4.7/6.8 MB 2.5 MB/s eta 0:00:01\n",
            "   ----------------------------- ---------- 4.9/6.8 MB 2.5 MB/s eta 0:00:01\n",
            "   ----------------------------- ---------- 5.0/6.8 MB 2.5 MB/s eta 0:00:01\n",
            "   ------------------------------- -------- 5.3/6.8 MB 2.6 MB/s eta 0:00:01\n",
            "   -------------------------------- ------- 5.5/6.8 MB 2.6 MB/s eta 0:00:01\n",
            "   ---------------------------------- ----- 5.8/6.8 MB 2.7 MB/s eta 0:00:01\n",
            "   ----------------------------------- ---- 6.0/6.8 MB 2.7 MB/s eta 0:00:01\n",
            "   ------------------------------------ --- 6.3/6.8 MB 2.8 MB/s eta 0:00:01\n",
            "   -------------------------------------- - 6.6/6.8 MB 2.8 MB/s eta 0:00:01\n",
            "   ---------------------------------------  6.8/6.8 MB 2.9 MB/s eta 0:00:01\n",
            "   ---------------------------------------- 6.8/6.8 MB 2.9 MB/s eta 0:00:00\n",
            "Using cached PyYAML-6.0.1-cp312-cp312-win_amd64.whl (138 kB)\n",
            "Downloading xyzservices-2023.10.1-py3-none-any.whl (56 kB)\n",
            "   ---------------------------------------- 0.0/56.3 kB ? eta -:--:--\n",
            "   ---------------------------------------- 56.3/56.3 kB 3.1 MB/s eta 0:00:00\n",
            "Downloading MarkupSafe-2.1.3-cp312-cp312-win_amd64.whl (16 kB)\n",
            "Building wheels for collected packages: backtesting\n",
            "  Building wheel for backtesting (pyproject.toml): started\n",
            "  Building wheel for backtesting (pyproject.toml): finished with status 'done'\n",
            "  Created wheel for backtesting: filename=Backtesting-0.3.3-py3-none-any.whl size=173964 sha256=78602ed7b422e49750ad7ef810e2dad5e8e0ade6d3307d1ba75715605ed3dadd\n",
            "  Stored in directory: c:\\users\\xz035\\appdata\\local\\pip\\cache\\wheels\\b6\\46\\69\\c2cb2ec77dea61c5ff9e68534250c3bc8e85f6fdb9ca69f31d\n",
            "Successfully built backtesting\n",
            "Installing collected packages: xyzservices, PyYAML, MarkupSafe, Jinja2, bokeh, backtesting\n",
            "Successfully installed Jinja2-3.1.2 MarkupSafe-2.1.3 PyYAML-6.0.1 backtesting-0.3.3 bokeh-3.3.0 xyzservices-2023.10.1\n"
          ]
        },
        {
          "name": "stderr",
          "output_type": "stream",
          "text": [
            "\n",
            "[notice] A new release of pip is available: 23.2.1 -> 23.3.1\n",
            "[notice] To update, run: python.exe -m pip install --upgrade pip\n"
          ]
        }
      ],
      "source": [
        "!pip install backtesting"
      ]
    },
    {
      "cell_type": "code",
      "execution_count": 2,
      "metadata": {
        "id": "6FK6BSbOjCGI"
      },
      "outputs": [],
      "source": [
        "import pandas as pd\n"
      ]
    },
    {
      "cell_type": "code",
      "execution_count": 3,
      "metadata": {
        "colab": {
          "base_uri": "https://localhost:8080/",
          "height": 261
        },
        "id": "pvwZGujcjjwk",
        "outputId": "8f62483a-b008-44ca-e6c9-73baf20e6fdd"
      },
      "outputs": [
        {
          "name": "stderr",
          "output_type": "stream",
          "text": [
            "C:\\Users\\xz035\\AppData\\Roaming\\Python\\Python312\\site-packages\\tqdm\\auto.py:21: TqdmWarning: IProgress not found. Please update jupyter and ipywidgets. See https://ipywidgets.readthedocs.io/en/stable/user_install.html\n",
            "  from .autonotebook import tqdm as notebook_tqdm\n",
            "C:\\Users\\xz035\\AppData\\Roaming\\Python\\Python312\\site-packages\\backtesting\\test\\__init__.py:8: FutureWarning: The argument 'infer_datetime_format' is deprecated and will be removed in a future version. A strict version of it is now the default, see https://pandas.pydata.org/pdeps/0004-consistent-to-datetime-parsing.html. You can safely remove this argument.\n",
            "  return pd.read_csv(join(dirname(__file__), filename),\n",
            "C:\\Users\\xz035\\AppData\\Roaming\\Python\\Python312\\site-packages\\backtesting\\test\\__init__.py:8: FutureWarning: The argument 'infer_datetime_format' is deprecated and will be removed in a future version. A strict version of it is now the default, see https://pandas.pydata.org/pdeps/0004-consistent-to-datetime-parsing.html. You can safely remove this argument.\n",
            "  return pd.read_csv(join(dirname(__file__), filename),\n"
          ]
        },
        {
          "data": {
            "text/html": [
              "<div>\n",
              "<style scoped>\n",
              "    .dataframe tbody tr th:only-of-type {\n",
              "        vertical-align: middle;\n",
              "    }\n",
              "\n",
              "    .dataframe tbody tr th {\n",
              "        vertical-align: top;\n",
              "    }\n",
              "\n",
              "    .dataframe thead th {\n",
              "        text-align: right;\n",
              "    }\n",
              "</style>\n",
              "<table border=\"1\" class=\"dataframe\">\n",
              "  <thead>\n",
              "    <tr style=\"text-align: right;\">\n",
              "      <th></th>\n",
              "      <th>Open</th>\n",
              "      <th>High</th>\n",
              "      <th>Low</th>\n",
              "      <th>Close</th>\n",
              "      <th>Volume</th>\n",
              "    </tr>\n",
              "  </thead>\n",
              "  <tbody>\n",
              "    <tr>\n",
              "      <th>2013-02-25</th>\n",
              "      <td>802.3</td>\n",
              "      <td>808.41</td>\n",
              "      <td>790.49</td>\n",
              "      <td>790.77</td>\n",
              "      <td>2303900</td>\n",
              "    </tr>\n",
              "    <tr>\n",
              "      <th>2013-02-26</th>\n",
              "      <td>795.0</td>\n",
              "      <td>795.95</td>\n",
              "      <td>784.40</td>\n",
              "      <td>790.13</td>\n",
              "      <td>2202500</td>\n",
              "    </tr>\n",
              "    <tr>\n",
              "      <th>2013-02-27</th>\n",
              "      <td>794.8</td>\n",
              "      <td>804.75</td>\n",
              "      <td>791.11</td>\n",
              "      <td>799.78</td>\n",
              "      <td>2026100</td>\n",
              "    </tr>\n",
              "    <tr>\n",
              "      <th>2013-02-28</th>\n",
              "      <td>801.1</td>\n",
              "      <td>806.99</td>\n",
              "      <td>801.03</td>\n",
              "      <td>801.20</td>\n",
              "      <td>2265800</td>\n",
              "    </tr>\n",
              "    <tr>\n",
              "      <th>2013-03-01</th>\n",
              "      <td>797.8</td>\n",
              "      <td>807.14</td>\n",
              "      <td>796.15</td>\n",
              "      <td>806.19</td>\n",
              "      <td>2175400</td>\n",
              "    </tr>\n",
              "  </tbody>\n",
              "</table>\n",
              "</div>"
            ],
            "text/plain": [
              "             Open    High     Low   Close   Volume\n",
              "2013-02-25  802.3  808.41  790.49  790.77  2303900\n",
              "2013-02-26  795.0  795.95  784.40  790.13  2202500\n",
              "2013-02-27  794.8  804.75  791.11  799.78  2026100\n",
              "2013-02-28  801.1  806.99  801.03  801.20  2265800\n",
              "2013-03-01  797.8  807.14  796.15  806.19  2175400"
            ]
          },
          "execution_count": 3,
          "metadata": {},
          "output_type": "execute_result"
        }
      ],
      "source": [
        "# Example OHLC daily data for Google Inc.\n",
        "from backtesting.test import GOOG\n",
        "\n",
        "GOOG.tail()\n"
      ]
    },
    {
      "cell_type": "code",
      "execution_count": 4,
      "metadata": {
        "id": "VV5tHfMfmIH-"
      },
      "outputs": [],
      "source": [
        "def SMA(values, n):\n",
        "    \"\"\"\n",
        "    Return simple moving average of `values`, at\n",
        "    each step taking into account `n` previous values.\n",
        "    \"\"\"\n",
        "    return pd.Series(values).rolling(n).mean()"
      ]
    },
    {
      "cell_type": "code",
      "execution_count": 5,
      "metadata": {
        "id": "cyxC7_b5murt"
      },
      "outputs": [],
      "source": [
        "from backtesting import Strategy\n",
        "from backtesting.lib import crossover\n",
        "\n",
        "\n",
        "class SmaCross(Strategy):\n",
        "    # Define the two MA lags as *class variables*\n",
        "    # for later optimization\n",
        "    n1 = 10\n",
        "    n2 = 20\n",
        "\n",
        "    def init(self):\n",
        "        # Precompute the two moving averages\n",
        "        self.sma1 = self.I(SMA, self.data.Close, self.n1)\n",
        "        self.sma2 = self.I(SMA, self.data.Close, self.n2)\n",
        "\n",
        "    def next(self):\n",
        "        # If sma1 crosses above sma2, close any existing\n",
        "        # short trades, and buy the asset\n",
        "        if crossover(self.sma1, self.sma2):\n",
        "            self.position.close()\n",
        "            self.buy()\n",
        "\n",
        "        # Else, if sma1 crosses below sma2, close any existing\n",
        "        # long trades, and sell the asset\n",
        "        elif crossover(self.sma2, self.sma1):\n",
        "            self.position.close()\n",
        "            self.sell()"
      ]
    },
    {
      "cell_type": "code",
      "execution_count": 6,
      "metadata": {
        "colab": {
          "base_uri": "https://localhost:8080/"
        },
        "id": "jwVxjE2Am1TN",
        "outputId": "513902e0-183e-49d7-fed8-6be0ed5f4f99"
      },
      "outputs": [
        {
          "name": "stdout",
          "output_type": "stream",
          "text": [
            "Couldn't find program: 'echo'\n"
          ]
        }
      ],
      "source": [
        "%%script echo\n",
        "\n",
        "    def next(self):\n",
        "        if (self.sma1[-2] < self.sma2[-2] and\n",
        "                self.sma1[-1] > self.sma2[-1]):\n",
        "            self.position.close()\n",
        "            self.buy()\n",
        "\n",
        "        elif (self.sma1[-2] > self.sma2[-2] and    # Ugh!\n",
        "              self.sma1[-1] < self.sma2[-1]):\n",
        "            self.position.close()\n",
        "            self.sell()"
      ]
    },
    {
      "cell_type": "code",
      "execution_count": 7,
      "metadata": {
        "colab": {
          "base_uri": "https://localhost:8080/"
        },
        "id": "xgFv7RENjldU",
        "outputId": "17255fb3-f556-4605-c15f-412e1b698d82"
      },
      "outputs": [
        {
          "data": {
            "text/plain": [
              "Start                     2004-08-19 00:00:00\n",
              "End                       2013-03-01 00:00:00\n",
              "Duration                   3116 days 00:00:00\n",
              "Exposure Time [%]                   97.067039\n",
              "Equity Final [$]                  68221.96986\n",
              "Equity Peak [$]                   68991.21986\n",
              "Return [%]                         582.219699\n",
              "Buy & Hold Return [%]              703.458242\n",
              "Return (Ann.) [%]                   25.266427\n",
              "Volatility (Ann.) [%]               38.383008\n",
              "Sharpe Ratio                         0.658271\n",
              "Sortino Ratio                        1.288779\n",
              "Calmar Ratio                         0.763748\n",
              "Max. Drawdown [%]                  -33.082172\n",
              "Avg. Drawdown [%]                   -5.581506\n",
              "Max. Drawdown Duration      688 days 00:00:00\n",
              "Avg. Drawdown Duration       41 days 00:00:00\n",
              "# Trades                                   94\n",
              "Win Rate [%]                        54.255319\n",
              "Best Trade [%]                       57.11931\n",
              "Worst Trade [%]                    -16.629898\n",
              "Avg. Trade [%]                       2.074326\n",
              "Max. Trade Duration         121 days 00:00:00\n",
              "Avg. Trade Duration          33 days 00:00:00\n",
              "Profit Factor                        2.190805\n",
              "Expectancy [%]                       2.606294\n",
              "SQN                                  1.990216\n",
              "_strategy                            SmaCross\n",
              "_equity_curve                             ...\n",
              "_trades                       Size  EntryB...\n",
              "dtype: object"
            ]
          },
          "execution_count": 7,
          "metadata": {},
          "output_type": "execute_result"
        }
      ],
      "source": [
        "from backtesting import Backtest\n",
        "\n",
        "bt = Backtest(GOOG, SmaCross, cash=10_000, commission=.002)\n",
        "stats = bt.run()\n",
        "stats"
      ]
    },
    {
      "cell_type": "code",
      "execution_count": 8,
      "metadata": {},
      "outputs": [
        {
          "name": "stderr",
          "output_type": "stream",
          "text": [
            "                                               "
          ]
        },
        {
          "name": "stdout",
          "output_type": "stream",
          "text": [
            "CPU times: total: 1.53 s\n",
            "Wall time: 1.52 s\n"
          ]
        },
        {
          "name": "stderr",
          "output_type": "stream",
          "text": [
            "\r"
          ]
        },
        {
          "data": {
            "text/plain": [
              "Start                     2004-08-19 00:00:00\n",
              "End                       2013-03-01 00:00:00\n",
              "Duration                   3116 days 00:00:00\n",
              "Exposure Time [%]                   99.068901\n",
              "Equity Final [$]                 103949.42612\n",
              "Equity Peak [$]                  108327.71798\n",
              "Return [%]                         939.494261\n",
              "Buy & Hold Return [%]              703.458242\n",
              "Return (Ann.) [%]                   31.610936\n",
              "Volatility (Ann.) [%]               44.739816\n",
              "Sharpe Ratio                          0.70655\n",
              "Sortino Ratio                        1.490961\n",
              "Calmar Ratio                         0.718505\n",
              "Max. Drawdown [%]                  -43.995445\n",
              "Avg. Drawdown [%]                   -6.138853\n",
              "Max. Drawdown Duration      690 days 00:00:00\n",
              "Avg. Drawdown Duration       43 days 00:00:00\n",
              "# Trades                                  153\n",
              "Win Rate [%]                        51.633987\n",
              "Best Trade [%]                      61.562908\n",
              "Worst Trade [%]                    -19.778312\n",
              "Avg. Trade [%]                       1.550283\n",
              "Max. Trade Duration          83 days 00:00:00\n",
              "Avg. Trade Duration          21 days 00:00:00\n",
              "Profit Factor                        1.984581\n",
              "Expectancy [%]                        1.97988\n",
              "SQN                                  1.604158\n",
              "_strategy                 SmaCross(n1=10,n...\n",
              "_equity_curve                             ...\n",
              "_trades                        Size  Entry...\n",
              "dtype: object"
            ]
          },
          "execution_count": 8,
          "metadata": {},
          "output_type": "execute_result"
        }
      ],
      "source": [
        "%%time\n",
        "\n",
        "stats = bt.optimize(n1=range(5, 30, 5),\n",
        "                    n2=range(10, 70, 5),\n",
        "                    maximize='Equity Final [$]',\n",
        "                    constraint=lambda param: param.n1 < param.n2)\n",
        "stats"
      ]
    },
    {
      "cell_type": "code",
      "execution_count": 9,
      "metadata": {
        "colab": {
          "base_uri": "https://localhost:8080/"
        },
        "id": "Y41drUyFnkzq",
        "outputId": "c005d9d2-0d7f-402c-f56e-67fae7294dcb"
      },
      "outputs": [
        {
          "data": {
            "text/plain": [
              "<Strategy SmaCross(n1=10,n2=15)>"
            ]
          },
          "execution_count": 9,
          "metadata": {},
          "output_type": "execute_result"
        }
      ],
      "source": [
        "stats._strategy"
      ]
    },
    {
      "cell_type": "code",
      "execution_count": 10,
      "metadata": {
        "colab": {
          "base_uri": "https://localhost:8080/",
          "height": 494
        },
        "id": "77qkGIVDnGFy",
        "outputId": "5e592abc-d125-420b-b1f9-cec7fa85a5c5"
      },
      "outputs": [
        {
          "name": "stderr",
          "output_type": "stream",
          "text": [
            "BokehDeprecationWarning: Passing lists of formats for DatetimeTickFormatter scales was deprecated in Bokeh 3.0. Configure a single string format for each scale\n",
            "C:\\Users\\xz035\\AppData\\Roaming\\Python\\Python312\\site-packages\\backtesting\\_plotting.py:250: UserWarning: DatetimeFormatter scales now only accept a single format. Using the first provided: '%d %b'\n",
            "  formatter=DatetimeTickFormatter(days=['%d %b', '%a %d'],\n",
            "BokehDeprecationWarning: Passing lists of formats for DatetimeTickFormatter scales was deprecated in Bokeh 3.0. Configure a single string format for each scale\n",
            "C:\\Users\\xz035\\AppData\\Roaming\\Python\\Python312\\site-packages\\backtesting\\_plotting.py:250: UserWarning: DatetimeFormatter scales now only accept a single format. Using the first provided: '%m/%Y'\n",
            "  formatter=DatetimeTickFormatter(days=['%d %b', '%a %d'],\n",
            "C:\\Users\\xz035\\AppData\\Roaming\\Python\\Python312\\site-packages\\backtesting\\_plotting.py:659: UserWarning: found multiple competing values for 'toolbar.active_drag' property; using the latest value\n",
            "  fig = gridplot(\n",
            "C:\\Users\\xz035\\AppData\\Roaming\\Python\\Python312\\site-packages\\backtesting\\_plotting.py:659: UserWarning: found multiple competing values for 'toolbar.active_scroll' property; using the latest value\n",
            "  fig = gridplot(\n"
          ]
        },
        {
          "data": {
            "text/html": [
              "<div style=\"display: table;\"><div style=\"display: table-row;\"><div style=\"display: table-cell;\"><b title=\"bokeh.models.plots.GridPlot\">GridPlot</b>(</div><div style=\"display: table-cell;\">id&nbsp;=&nbsp;'p1309', <span id=\"p1341\" style=\"cursor: pointer;\">&hellip;)</span></div></div><div class=\"p1340\" style=\"display: none;\"><div style=\"display: table-cell;\"></div><div style=\"display: table-cell;\">align&nbsp;=&nbsp;'auto',</div></div><div class=\"p1340\" style=\"display: none;\"><div style=\"display: table-cell;\"></div><div style=\"display: table-cell;\">aspect_ratio&nbsp;=&nbsp;None,</div></div><div class=\"p1340\" style=\"display: none;\"><div style=\"display: table-cell;\"></div><div style=\"display: table-cell;\">children&nbsp;=&nbsp;[(figure(id='p1042', ...), 0, 0), (figure(id='p1135', ...), 1, 0), (figure(id='p1002', ...), 2, 0), (figure(id='p1186', ...), 3, 0)],</div></div><div class=\"p1340\" style=\"display: none;\"><div style=\"display: table-cell;\"></div><div style=\"display: table-cell;\">cols&nbsp;=&nbsp;None,</div></div><div class=\"p1340\" style=\"display: none;\"><div style=\"display: table-cell;\"></div><div style=\"display: table-cell;\">context_menu&nbsp;=&nbsp;None,</div></div><div class=\"p1340\" style=\"display: none;\"><div style=\"display: table-cell;\"></div><div style=\"display: table-cell;\">css_classes&nbsp;=&nbsp;[],</div></div><div class=\"p1340\" style=\"display: none;\"><div style=\"display: table-cell;\"></div><div style=\"display: table-cell;\">disabled&nbsp;=&nbsp;False,</div></div><div class=\"p1340\" style=\"display: none;\"><div style=\"display: table-cell;\"></div><div style=\"display: table-cell;\">flow_mode&nbsp;=&nbsp;'block',</div></div><div class=\"p1340\" style=\"display: none;\"><div style=\"display: table-cell;\"></div><div style=\"display: table-cell;\">height&nbsp;=&nbsp;None,</div></div><div class=\"p1340\" style=\"display: none;\"><div style=\"display: table-cell;\"></div><div style=\"display: table-cell;\">height_policy&nbsp;=&nbsp;'auto',</div></div><div class=\"p1340\" style=\"display: none;\"><div style=\"display: table-cell;\"></div><div style=\"display: table-cell;\">js_event_callbacks&nbsp;=&nbsp;{},</div></div><div class=\"p1340\" style=\"display: none;\"><div style=\"display: table-cell;\"></div><div style=\"display: table-cell;\">js_property_callbacks&nbsp;=&nbsp;{},</div></div><div class=\"p1340\" style=\"display: none;\"><div style=\"display: table-cell;\"></div><div style=\"display: table-cell;\">margin&nbsp;=&nbsp;None,</div></div><div class=\"p1340\" style=\"display: none;\"><div style=\"display: table-cell;\"></div><div style=\"display: table-cell;\">max_height&nbsp;=&nbsp;None,</div></div><div class=\"p1340\" style=\"display: none;\"><div style=\"display: table-cell;\"></div><div style=\"display: table-cell;\">max_width&nbsp;=&nbsp;None,</div></div><div class=\"p1340\" style=\"display: none;\"><div style=\"display: table-cell;\"></div><div style=\"display: table-cell;\">min_height&nbsp;=&nbsp;None,</div></div><div class=\"p1340\" style=\"display: none;\"><div style=\"display: table-cell;\"></div><div style=\"display: table-cell;\">min_width&nbsp;=&nbsp;None,</div></div><div class=\"p1340\" style=\"display: none;\"><div style=\"display: table-cell;\"></div><div style=\"display: table-cell;\">name&nbsp;=&nbsp;None,</div></div><div class=\"p1340\" style=\"display: none;\"><div style=\"display: table-cell;\"></div><div style=\"display: table-cell;\">resizable&nbsp;=&nbsp;False,</div></div><div class=\"p1340\" style=\"display: none;\"><div style=\"display: table-cell;\"></div><div style=\"display: table-cell;\">rows&nbsp;=&nbsp;None,</div></div><div class=\"p1340\" style=\"display: none;\"><div style=\"display: table-cell;\"></div><div style=\"display: table-cell;\">sizing_mode&nbsp;=&nbsp;'stretch_width',</div></div><div class=\"p1340\" style=\"display: none;\"><div style=\"display: table-cell;\"></div><div style=\"display: table-cell;\">spacing&nbsp;=&nbsp;0,</div></div><div class=\"p1340\" style=\"display: none;\"><div style=\"display: table-cell;\"></div><div style=\"display: table-cell;\">styles&nbsp;=&nbsp;{},</div></div><div class=\"p1340\" style=\"display: none;\"><div style=\"display: table-cell;\"></div><div style=\"display: table-cell;\">stylesheets&nbsp;=&nbsp;[],</div></div><div class=\"p1340\" style=\"display: none;\"><div style=\"display: table-cell;\"></div><div style=\"display: table-cell;\">subscribed_events&nbsp;=&nbsp;PropertyValueSet(),</div></div><div class=\"p1340\" style=\"display: none;\"><div style=\"display: table-cell;\"></div><div style=\"display: table-cell;\">syncable&nbsp;=&nbsp;True,</div></div><div class=\"p1340\" style=\"display: none;\"><div style=\"display: table-cell;\"></div><div style=\"display: table-cell;\">tags&nbsp;=&nbsp;[],</div></div><div class=\"p1340\" style=\"display: none;\"><div style=\"display: table-cell;\"></div><div style=\"display: table-cell;\">toolbar&nbsp;=&nbsp;Toolbar(id='p1308', ...),</div></div><div class=\"p1340\" style=\"display: none;\"><div style=\"display: table-cell;\"></div><div style=\"display: table-cell;\">toolbar_location&nbsp;=&nbsp;'right',</div></div><div class=\"p1340\" style=\"display: none;\"><div style=\"display: table-cell;\"></div><div style=\"display: table-cell;\">visible&nbsp;=&nbsp;True,</div></div><div class=\"p1340\" style=\"display: none;\"><div style=\"display: table-cell;\"></div><div style=\"display: table-cell;\">width&nbsp;=&nbsp;None,</div></div><div class=\"p1340\" style=\"display: none;\"><div style=\"display: table-cell;\"></div><div style=\"display: table-cell;\">width_policy&nbsp;=&nbsp;'auto')</div></div></div>\n",
              "<script>\n",
              "(function() {\n",
              "  let expanded = false;\n",
              "  const ellipsis = document.getElementById(\"p1341\");\n",
              "  ellipsis.addEventListener(\"click\", function() {\n",
              "    const rows = document.getElementsByClassName(\"p1340\");\n",
              "    for (let i = 0; i < rows.length; i++) {\n",
              "      const el = rows[i];\n",
              "      el.style.display = expanded ? \"none\" : \"table-row\";\n",
              "    }\n",
              "    ellipsis.innerHTML = expanded ? \"&hellip;)\" : \"&lsaquo;&lsaquo;&lsaquo;\";\n",
              "    expanded = !expanded;\n",
              "  });\n",
              "})();\n",
              "</script>\n"
            ],
            "text/plain": [
              "GridPlot(id='p1309', ...)"
            ]
          },
          "execution_count": 10,
          "metadata": {},
          "output_type": "execute_result"
        }
      ],
      "source": [
        "bt.plot()"
      ]
    },
    {
      "cell_type": "code",
      "execution_count": 11,
      "metadata": {
        "colab": {
          "base_uri": "https://localhost:8080/"
        },
        "id": "x2brTzwEoSAP",
        "outputId": "a6c680fa-e801-4257-b006-7f8f4e9d86f0"
      },
      "outputs": [
        {
          "data": {
            "text/plain": [
              "Expectancy [%]                                              1.97988\n",
              "SQN                                                        1.604158\n",
              "_strategy                                     SmaCross(n1=10,n2=15)\n",
              "_equity_curve                       Equity  DrawdownPct Drawdown...\n",
              "_trades                Size  EntryBar  ExitBar  EntryPrice  Exit...\n",
              "dtype: object"
            ]
          },
          "execution_count": 11,
          "metadata": {},
          "output_type": "execute_result"
        }
      ],
      "source": [
        "stats.tail()"
      ]
    },
    {
      "cell_type": "code",
      "execution_count": 12,
      "metadata": {
        "colab": {
          "base_uri": "https://localhost:8080/",
          "height": 424
        },
        "id": "6-mjS2KPocjz",
        "outputId": "94638165-b366-40ef-e2af-99389d0d23d0"
      },
      "outputs": [
        {
          "data": {
            "text/html": [
              "<div>\n",
              "<style scoped>\n",
              "    .dataframe tbody tr th:only-of-type {\n",
              "        vertical-align: middle;\n",
              "    }\n",
              "\n",
              "    .dataframe tbody tr th {\n",
              "        vertical-align: top;\n",
              "    }\n",
              "\n",
              "    .dataframe thead th {\n",
              "        text-align: right;\n",
              "    }\n",
              "</style>\n",
              "<table border=\"1\" class=\"dataframe\">\n",
              "  <thead>\n",
              "    <tr style=\"text-align: right;\">\n",
              "      <th></th>\n",
              "      <th>Equity</th>\n",
              "      <th>DrawdownPct</th>\n",
              "      <th>DrawdownDuration</th>\n",
              "    </tr>\n",
              "  </thead>\n",
              "  <tbody>\n",
              "    <tr>\n",
              "      <th>2004-08-19</th>\n",
              "      <td>10000.00000</td>\n",
              "      <td>0.000000</td>\n",
              "      <td>NaT</td>\n",
              "    </tr>\n",
              "    <tr>\n",
              "      <th>2004-08-20</th>\n",
              "      <td>10000.00000</td>\n",
              "      <td>0.000000</td>\n",
              "      <td>NaT</td>\n",
              "    </tr>\n",
              "    <tr>\n",
              "      <th>2004-08-23</th>\n",
              "      <td>10000.00000</td>\n",
              "      <td>0.000000</td>\n",
              "      <td>NaT</td>\n",
              "    </tr>\n",
              "    <tr>\n",
              "      <th>2004-08-24</th>\n",
              "      <td>10000.00000</td>\n",
              "      <td>0.000000</td>\n",
              "      <td>NaT</td>\n",
              "    </tr>\n",
              "    <tr>\n",
              "      <th>2004-08-25</th>\n",
              "      <td>10000.00000</td>\n",
              "      <td>0.000000</td>\n",
              "      <td>NaT</td>\n",
              "    </tr>\n",
              "    <tr>\n",
              "      <th>...</th>\n",
              "      <td>...</td>\n",
              "      <td>...</td>\n",
              "      <td>...</td>\n",
              "    </tr>\n",
              "    <tr>\n",
              "      <th>2013-02-25</th>\n",
              "      <td>103035.52612</td>\n",
              "      <td>0.048854</td>\n",
              "      <td>NaT</td>\n",
              "    </tr>\n",
              "    <tr>\n",
              "      <th>2013-02-26</th>\n",
              "      <td>102952.32612</td>\n",
              "      <td>0.049622</td>\n",
              "      <td>NaT</td>\n",
              "    </tr>\n",
              "    <tr>\n",
              "      <th>2013-02-27</th>\n",
              "      <td>104206.82612</td>\n",
              "      <td>0.038041</td>\n",
              "      <td>NaT</td>\n",
              "    </tr>\n",
              "    <tr>\n",
              "      <th>2013-02-28</th>\n",
              "      <td>104391.42612</td>\n",
              "      <td>0.036337</td>\n",
              "      <td>NaT</td>\n",
              "    </tr>\n",
              "    <tr>\n",
              "      <th>2013-03-01</th>\n",
              "      <td>103949.42612</td>\n",
              "      <td>0.040417</td>\n",
              "      <td>533 days</td>\n",
              "    </tr>\n",
              "  </tbody>\n",
              "</table>\n",
              "<p>2148 rows × 3 columns</p>\n",
              "</div>"
            ],
            "text/plain": [
              "                  Equity  DrawdownPct DrawdownDuration\n",
              "2004-08-19   10000.00000     0.000000              NaT\n",
              "2004-08-20   10000.00000     0.000000              NaT\n",
              "2004-08-23   10000.00000     0.000000              NaT\n",
              "2004-08-24   10000.00000     0.000000              NaT\n",
              "2004-08-25   10000.00000     0.000000              NaT\n",
              "...                  ...          ...              ...\n",
              "2013-02-25  103035.52612     0.048854              NaT\n",
              "2013-02-26  102952.32612     0.049622              NaT\n",
              "2013-02-27  104206.82612     0.038041              NaT\n",
              "2013-02-28  104391.42612     0.036337              NaT\n",
              "2013-03-01  103949.42612     0.040417         533 days\n",
              "\n",
              "[2148 rows x 3 columns]"
            ]
          },
          "execution_count": 12,
          "metadata": {},
          "output_type": "execute_result"
        }
      ],
      "source": [
        "stats['_equity_curve']"
      ]
    },
    {
      "cell_type": "code",
      "execution_count": 13,
      "metadata": {
        "colab": {
          "base_uri": "https://localhost:8080/",
          "height": 424
        },
        "id": "YMlFYw3QojgZ",
        "outputId": "44816397-60d4-496b-ba0f-ad161e76a07f"
      },
      "outputs": [
        {
          "data": {
            "text/html": [
              "<div>\n",
              "<style scoped>\n",
              "    .dataframe tbody tr th:only-of-type {\n",
              "        vertical-align: middle;\n",
              "    }\n",
              "\n",
              "    .dataframe tbody tr th {\n",
              "        vertical-align: top;\n",
              "    }\n",
              "\n",
              "    .dataframe thead th {\n",
              "        text-align: right;\n",
              "    }\n",
              "</style>\n",
              "<table border=\"1\" class=\"dataframe\">\n",
              "  <thead>\n",
              "    <tr style=\"text-align: right;\">\n",
              "      <th></th>\n",
              "      <th>Size</th>\n",
              "      <th>EntryBar</th>\n",
              "      <th>ExitBar</th>\n",
              "      <th>EntryPrice</th>\n",
              "      <th>ExitPrice</th>\n",
              "      <th>PnL</th>\n",
              "      <th>ReturnPct</th>\n",
              "      <th>EntryTime</th>\n",
              "      <th>ExitTime</th>\n",
              "      <th>Duration</th>\n",
              "    </tr>\n",
              "  </thead>\n",
              "  <tbody>\n",
              "    <tr>\n",
              "      <th>0</th>\n",
              "      <td>87</td>\n",
              "      <td>20</td>\n",
              "      <td>60</td>\n",
              "      <td>114.64884</td>\n",
              "      <td>185.23</td>\n",
              "      <td>6140.56092</td>\n",
              "      <td>0.615629</td>\n",
              "      <td>2004-09-17</td>\n",
              "      <td>2004-11-12</td>\n",
              "      <td>56 days</td>\n",
              "    </tr>\n",
              "    <tr>\n",
              "      <th>1</th>\n",
              "      <td>-87</td>\n",
              "      <td>60</td>\n",
              "      <td>69</td>\n",
              "      <td>184.85954</td>\n",
              "      <td>175.80</td>\n",
              "      <td>788.17998</td>\n",
              "      <td>0.049008</td>\n",
              "      <td>2004-11-12</td>\n",
              "      <td>2004-11-26</td>\n",
              "      <td>14 days</td>\n",
              "    </tr>\n",
              "    <tr>\n",
              "      <th>2</th>\n",
              "      <td>96</td>\n",
              "      <td>69</td>\n",
              "      <td>71</td>\n",
              "      <td>176.15160</td>\n",
              "      <td>180.71</td>\n",
              "      <td>437.60640</td>\n",
              "      <td>0.025878</td>\n",
              "      <td>2004-11-26</td>\n",
              "      <td>2004-11-30</td>\n",
              "      <td>4 days</td>\n",
              "    </tr>\n",
              "    <tr>\n",
              "      <th>3</th>\n",
              "      <td>-96</td>\n",
              "      <td>71</td>\n",
              "      <td>75</td>\n",
              "      <td>180.34858</td>\n",
              "      <td>179.13</td>\n",
              "      <td>116.98368</td>\n",
              "      <td>0.006757</td>\n",
              "      <td>2004-11-30</td>\n",
              "      <td>2004-12-06</td>\n",
              "      <td>6 days</td>\n",
              "    </tr>\n",
              "    <tr>\n",
              "      <th>4</th>\n",
              "      <td>97</td>\n",
              "      <td>75</td>\n",
              "      <td>82</td>\n",
              "      <td>179.48826</td>\n",
              "      <td>177.99</td>\n",
              "      <td>-145.33122</td>\n",
              "      <td>-0.008347</td>\n",
              "      <td>2004-12-06</td>\n",
              "      <td>2004-12-15</td>\n",
              "      <td>9 days</td>\n",
              "    </tr>\n",
              "    <tr>\n",
              "      <th>...</th>\n",
              "      <td>...</td>\n",
              "      <td>...</td>\n",
              "      <td>...</td>\n",
              "      <td>...</td>\n",
              "      <td>...</td>\n",
              "      <td>...</td>\n",
              "      <td>...</td>\n",
              "      <td>...</td>\n",
              "      <td>...</td>\n",
              "      <td>...</td>\n",
              "    </tr>\n",
              "    <tr>\n",
              "      <th>148</th>\n",
              "      <td>139</td>\n",
              "      <td>2085</td>\n",
              "      <td>2111</td>\n",
              "      <td>689.15556</td>\n",
              "      <td>735.54</td>\n",
              "      <td>6447.43716</td>\n",
              "      <td>0.067306</td>\n",
              "      <td>2012-11-29</td>\n",
              "      <td>2013-01-08</td>\n",
              "      <td>40 days</td>\n",
              "    </tr>\n",
              "    <tr>\n",
              "      <th>149</th>\n",
              "      <td>-139</td>\n",
              "      <td>2111</td>\n",
              "      <td>2113</td>\n",
              "      <td>734.06892</td>\n",
              "      <td>742.83</td>\n",
              "      <td>-1217.79012</td>\n",
              "      <td>-0.011935</td>\n",
              "      <td>2013-01-08</td>\n",
              "      <td>2013-01-10</td>\n",
              "      <td>2 days</td>\n",
              "    </tr>\n",
              "    <tr>\n",
              "      <th>150</th>\n",
              "      <td>136</td>\n",
              "      <td>2113</td>\n",
              "      <td>2121</td>\n",
              "      <td>744.31566</td>\n",
              "      <td>735.99</td>\n",
              "      <td>-1132.28976</td>\n",
              "      <td>-0.011186</td>\n",
              "      <td>2013-01-10</td>\n",
              "      <td>2013-01-23</td>\n",
              "      <td>13 days</td>\n",
              "    </tr>\n",
              "    <tr>\n",
              "      <th>151</th>\n",
              "      <td>-136</td>\n",
              "      <td>2121</td>\n",
              "      <td>2127</td>\n",
              "      <td>734.51802</td>\n",
              "      <td>750.51</td>\n",
              "      <td>-2174.90928</td>\n",
              "      <td>-0.021772</td>\n",
              "      <td>2013-01-23</td>\n",
              "      <td>2013-01-31</td>\n",
              "      <td>8 days</td>\n",
              "    </tr>\n",
              "    <tr>\n",
              "      <th>152</th>\n",
              "      <td>130</td>\n",
              "      <td>2127</td>\n",
              "      <td>2147</td>\n",
              "      <td>752.01102</td>\n",
              "      <td>797.80</td>\n",
              "      <td>5952.56740</td>\n",
              "      <td>0.060889</td>\n",
              "      <td>2013-01-31</td>\n",
              "      <td>2013-03-01</td>\n",
              "      <td>29 days</td>\n",
              "    </tr>\n",
              "  </tbody>\n",
              "</table>\n",
              "<p>153 rows × 10 columns</p>\n",
              "</div>"
            ],
            "text/plain": [
              "     Size  EntryBar  ExitBar  EntryPrice  ExitPrice         PnL  ReturnPct  \\\n",
              "0      87        20       60   114.64884     185.23  6140.56092   0.615629   \n",
              "1     -87        60       69   184.85954     175.80   788.17998   0.049008   \n",
              "2      96        69       71   176.15160     180.71   437.60640   0.025878   \n",
              "3     -96        71       75   180.34858     179.13   116.98368   0.006757   \n",
              "4      97        75       82   179.48826     177.99  -145.33122  -0.008347   \n",
              "..    ...       ...      ...         ...        ...         ...        ...   \n",
              "148   139      2085     2111   689.15556     735.54  6447.43716   0.067306   \n",
              "149  -139      2111     2113   734.06892     742.83 -1217.79012  -0.011935   \n",
              "150   136      2113     2121   744.31566     735.99 -1132.28976  -0.011186   \n",
              "151  -136      2121     2127   734.51802     750.51 -2174.90928  -0.021772   \n",
              "152   130      2127     2147   752.01102     797.80  5952.56740   0.060889   \n",
              "\n",
              "     EntryTime   ExitTime Duration  \n",
              "0   2004-09-17 2004-11-12  56 days  \n",
              "1   2004-11-12 2004-11-26  14 days  \n",
              "2   2004-11-26 2004-11-30   4 days  \n",
              "3   2004-11-30 2004-12-06   6 days  \n",
              "4   2004-12-06 2004-12-15   9 days  \n",
              "..         ...        ...      ...  \n",
              "148 2012-11-29 2013-01-08  40 days  \n",
              "149 2013-01-08 2013-01-10   2 days  \n",
              "150 2013-01-10 2013-01-23  13 days  \n",
              "151 2013-01-23 2013-01-31   8 days  \n",
              "152 2013-01-31 2013-03-01  29 days  \n",
              "\n",
              "[153 rows x 10 columns]"
            ]
          },
          "execution_count": 13,
          "metadata": {},
          "output_type": "execute_result"
        }
      ],
      "source": [
        "stats['_trades']"
      ]
    }
  ],
  "metadata": {
    "colab": {
      "provenance": []
    },
    "kernelspec": {
      "display_name": "Python 3",
      "name": "python3"
    },
    "language_info": {
      "codemirror_mode": {
        "name": "ipython",
        "version": 3
      },
      "file_extension": ".py",
      "mimetype": "text/x-python",
      "name": "python",
      "nbconvert_exporter": "python",
      "pygments_lexer": "ipython3",
      "version": "3.12.0"
    }
  },
  "nbformat": 4,
  "nbformat_minor": 0
}
