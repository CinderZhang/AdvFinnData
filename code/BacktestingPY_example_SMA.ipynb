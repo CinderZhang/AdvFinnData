{
  "cells": [
    {
      "cell_type": "markdown",
      "metadata": {
        "id": "8pIhzXJrmVK2"
      },
      "source": [
        "[Reference](https://kernc.github.io/backtesting.py/doc/examples/Quick%20Start%20User%20Guide.html)"
      ]
    },
    {
      "cell_type": "code",
      "execution_count": 1,
      "metadata": {
        "colab": {
          "base_uri": "https://localhost:8080/"
        },
        "id": "teLYGh8cjM7C",
        "outputId": "f32b89c1-6bc1-4824-8ab0-3d80b1e28a6d"
      },
      "outputs": [
        {
          "name": "stdout",
          "output_type": "stream",
          "text": [
            "Defaulting to user installation because normal site-packages is not writeable\n",
            "Collecting backtesting\n",
            "  Downloading Backtesting-0.3.3.tar.gz (175 kB)\n",
            "     ---------------------------------------- 0.0/175.5 kB ? eta -:--:--\n",
            "     ---------------------------------------- 0.0/175.5 kB ? eta -:--:--\n",
            "     -- ------------------------------------- 10.2/175.5 kB ? eta -:--:--\n",
            "     -- ------------------------------------- 10.2/175.5 kB ? eta -:--:--\n",
            "     ------ ------------------------------ 30.7/175.5 kB 217.9 kB/s eta 0:00:01\n",
            "     ------------ ------------------------ 61.4/175.5 kB 297.7 kB/s eta 0:00:01\n",
            "     ------------------- ----------------- 92.2/175.5 kB 374.1 kB/s eta 0:00:01\n",
            "     ------------------------- ---------- 122.9/175.5 kB 450.6 kB/s eta 0:00:01\n",
            "     --------------------------------- -- 163.8/175.5 kB 517.2 kB/s eta 0:00:01\n",
            "     ------------------------------------ 175.5/175.5 kB 480.4 kB/s eta 0:00:00\n",
            "  Installing build dependencies: started\n",
            "  Installing build dependencies: finished with status 'done'\n",
            "  Getting requirements to build wheel: started\n",
            "  Getting requirements to build wheel: finished with status 'done'\n",
            "  Installing backend dependencies: started\n",
            "  Installing backend dependencies: finished with status 'done'\n",
            "  Preparing metadata (pyproject.toml): started\n",
            "  Preparing metadata (pyproject.toml): finished with status 'done'\n",
            "Requirement already satisfied: numpy>=1.17.0 in c:\\users\\xz035\\appdata\\roaming\\python\\python312\\site-packages (from backtesting) (1.26.1)\n",
            "Requirement already satisfied: pandas!=0.25.0,>=0.25.0 in c:\\users\\xz035\\appdata\\roaming\\python\\python312\\site-packages (from backtesting) (2.1.2)\n",
            "Collecting bokeh>=1.4.0 (from backtesting)\n",
            "  Obtaining dependency information for bokeh>=1.4.0 from https://files.pythonhosted.org/packages/d8/7b/74b234af7fca8c688c46f63fec30665b0c3c1f3eac2da756306691aee122/bokeh-3.3.0-py3-none-any.whl.metadata\n",
            "  Downloading bokeh-3.3.0-py3-none-any.whl.metadata (12 kB)\n",
            "Collecting Jinja2>=2.9 (from bokeh>=1.4.0->backtesting)\n",
            "  Using cached Jinja2-3.1.2-py3-none-any.whl (133 kB)\n",
            "Requirement already satisfied: contourpy>=1 in c:\\users\\xz035\\appdata\\roaming\\python\\python312\\site-packages (from bokeh>=1.4.0->backtesting) (1.1.1)\n",
            "Requirement already satisfied: packaging>=16.8 in c:\\users\\xz035\\appdata\\roaming\\python\\python312\\site-packages (from bokeh>=1.4.0->backtesting) (23.2)\n",
            "Requirement already satisfied: pillow>=7.1.0 in c:\\users\\xz035\\appdata\\roaming\\python\\python312\\site-packages (from bokeh>=1.4.0->backtesting) (10.1.0)\n",
            "Collecting PyYAML>=3.10 (from bokeh>=1.4.0->backtesting)\n",
            "  Obtaining dependency information for PyYAML>=3.10 from https://files.pythonhosted.org/packages/2b/9f/fbade56564ad486809c27b322d0f7e6a89c01f6b4fe208402e90d4443a99/PyYAML-6.0.1-cp312-cp312-win_amd64.whl.metadata\n",
            "  Using cached PyYAML-6.0.1-cp312-cp312-win_amd64.whl.metadata (2.1 kB)\n",
            "Requirement already satisfied: tornado>=5.1 in c:\\users\\xz035\\appdata\\roaming\\python\\python312\\site-packages (from bokeh>=1.4.0->backtesting) (6.3.3)\n",
            "Collecting xyzservices>=2021.09.1 (from bokeh>=1.4.0->backtesting)\n",
            "  Obtaining dependency information for xyzservices>=2021.09.1 from https://files.pythonhosted.org/packages/82/c3/e06dfa46464cce3eda4b86df8847cab99d9bc545c76807ee689545187a4c/xyzservices-2023.10.1-py3-none-any.whl.metadata\n",
            "  Downloading xyzservices-2023.10.1-py3-none-any.whl.metadata (4.0 kB)\n",
            "Requirement already satisfied: python-dateutil>=2.8.2 in c:\\users\\xz035\\appdata\\roaming\\python\\python312\\site-packages (from pandas!=0.25.0,>=0.25.0->backtesting) (2.8.2)\n",
            "Requirement already satisfied: pytz>=2020.1 in c:\\users\\xz035\\appdata\\roaming\\python\\python312\\site-packages (from pandas!=0.25.0,>=0.25.0->backtesting) (2023.3.post1)\n",
            "Requirement already satisfied: tzdata>=2022.1 in c:\\users\\xz035\\appdata\\roaming\\python\\python312\\site-packages (from pandas!=0.25.0,>=0.25.0->backtesting) (2023.3)\n",
            "Collecting MarkupSafe>=2.0 (from Jinja2>=2.9->bokeh>=1.4.0->backtesting)\n",
            "  Obtaining dependency information for MarkupSafe>=2.0 from https://files.pythonhosted.org/packages/44/44/dbaf65876e258facd65f586dde158387ab89963e7f2235551afc9c2e24c2/MarkupSafe-2.1.3-cp312-cp312-win_amd64.whl.metadata\n",
            "  Downloading MarkupSafe-2.1.3-cp312-cp312-win_amd64.whl.metadata (3.0 kB)\n",
            "Requirement already satisfied: six>=1.5 in c:\\users\\xz035\\appdata\\roaming\\python\\python312\\site-packages (from python-dateutil>=2.8.2->pandas!=0.25.0,>=0.25.0->backtesting) (1.16.0)\n",
            "Downloading bokeh-3.3.0-py3-none-any.whl (6.8 MB)\n",
            "   ---------------------------------------- 0.0/6.8 MB ? eta -:--:--\n",
            "    --------------------------------------- 0.1/6.8 MB 6.4 MB/s eta 0:00:02\n",
            "    --------------------------------------- 0.1/6.8 MB 6.4 MB/s eta 0:00:02\n",
            "    --------------------------------------- 0.1/6.8 MB 6.4 MB/s eta 0:00:02\n",
            "   - -------------------------------------- 0.2/6.8 MB 1.3 MB/s eta 0:00:06\n",
            "   - -------------------------------------- 0.2/6.8 MB 1.3 MB/s eta 0:00:06\n",
            "   - -------------------------------------- 0.3/6.8 MB 980.4 kB/s eta 0:00:07\n",
            "   -- ------------------------------------- 0.5/6.8 MB 1.3 MB/s eta 0:00:05\n",
            "   -- ------------------------------------- 0.5/6.8 MB 1.4 MB/s eta 0:00:05\n",
            "   --- ------------------------------------ 0.6/6.8 MB 1.4 MB/s eta 0:00:05\n",
            "   --- ------------------------------------ 0.7/6.8 MB 1.4 MB/s eta 0:00:05\n",
            "   ----- ---------------------------------- 0.9/6.8 MB 1.7 MB/s eta 0:00:04\n",
            "   ----- ---------------------------------- 1.0/6.8 MB 1.7 MB/s eta 0:00:04\n",
            "   ------ --------------------------------- 1.2/6.8 MB 1.9 MB/s eta 0:00:03\n",
            "   ------- -------------------------------- 1.2/6.8 MB 1.9 MB/s eta 0:00:03\n",
            "   -------- ------------------------------- 1.4/6.8 MB 2.0 MB/s eta 0:00:03\n",
            "   --------- ------------------------------ 1.5/6.8 MB 2.0 MB/s eta 0:00:03\n",
            "   --------- ------------------------------ 1.7/6.8 MB 2.1 MB/s eta 0:00:03\n",
            "   ---------- ----------------------------- 1.8/6.8 MB 2.2 MB/s eta 0:00:03\n",
            "   ----------- ---------------------------- 1.9/6.8 MB 2.1 MB/s eta 0:00:03\n",
            "   ----------- ---------------------------- 2.0/6.8 MB 2.1 MB/s eta 0:00:03\n",
            "   ----------- ---------------------------- 2.0/6.8 MB 2.1 MB/s eta 0:00:03\n",
            "   ------------ --------------------------- 2.1/6.8 MB 2.1 MB/s eta 0:00:03\n",
            "   ------------- -------------------------- 2.3/6.8 MB 2.1 MB/s eta 0:00:03\n",
            "   -------------- ------------------------- 2.4/6.8 MB 2.1 MB/s eta 0:00:03\n",
            "   -------------- ------------------------- 2.5/6.8 MB 2.1 MB/s eta 0:00:03\n",
            "   --------------- ------------------------ 2.6/6.8 MB 2.1 MB/s eta 0:00:02\n",
            "   ---------------- ----------------------- 2.8/6.8 MB 2.2 MB/s eta 0:00:02\n",
            "   ---------------- ----------------------- 2.8/6.8 MB 2.1 MB/s eta 0:00:02\n",
            "   ----------------- ---------------------- 2.9/6.8 MB 2.2 MB/s eta 0:00:02\n",
            "   ----------------- ---------------------- 3.1/6.8 MB 2.2 MB/s eta 0:00:02\n",
            "   ------------------ --------------------- 3.2/6.8 MB 2.2 MB/s eta 0:00:02\n",
            "   ------------------- -------------------- 3.3/6.8 MB 2.2 MB/s eta 0:00:02\n",
            "   -------------------- ------------------- 3.4/6.8 MB 2.2 MB/s eta 0:00:02\n",
            "   -------------------- ------------------- 3.5/6.8 MB 2.2 MB/s eta 0:00:02\n",
            "   -------------------- ------------------- 3.6/6.8 MB 2.2 MB/s eta 0:00:02\n",
            "   --------------------- ------------------ 3.6/6.8 MB 2.2 MB/s eta 0:00:02\n",
            "   ---------------------- ----------------- 3.8/6.8 MB 2.2 MB/s eta 0:00:02\n",
            "   ----------------------- ---------------- 4.0/6.8 MB 2.3 MB/s eta 0:00:02\n",
            "   ----------------------- ---------------- 4.0/6.8 MB 2.3 MB/s eta 0:00:02\n",
            "   -------------------------- ------------- 4.5/6.8 MB 2.4 MB/s eta 0:00:01\n",
            "   --------------------------- ------------ 4.7/6.8 MB 2.5 MB/s eta 0:00:01\n",
            "   ----------------------------- ---------- 4.9/6.8 MB 2.5 MB/s eta 0:00:01\n",
            "   ----------------------------- ---------- 5.0/6.8 MB 2.5 MB/s eta 0:00:01\n",
            "   ------------------------------- -------- 5.3/6.8 MB 2.6 MB/s eta 0:00:01\n",
            "   -------------------------------- ------- 5.5/6.8 MB 2.6 MB/s eta 0:00:01\n",
            "   ---------------------------------- ----- 5.8/6.8 MB 2.7 MB/s eta 0:00:01\n",
            "   ----------------------------------- ---- 6.0/6.8 MB 2.7 MB/s eta 0:00:01\n",
            "   ------------------------------------ --- 6.3/6.8 MB 2.8 MB/s eta 0:00:01\n",
            "   -------------------------------------- - 6.6/6.8 MB 2.8 MB/s eta 0:00:01\n",
            "   ---------------------------------------  6.8/6.8 MB 2.9 MB/s eta 0:00:01\n",
            "   ---------------------------------------- 6.8/6.8 MB 2.9 MB/s eta 0:00:00\n",
            "Using cached PyYAML-6.0.1-cp312-cp312-win_amd64.whl (138 kB)\n",
            "Downloading xyzservices-2023.10.1-py3-none-any.whl (56 kB)\n",
            "   ---------------------------------------- 0.0/56.3 kB ? eta -:--:--\n",
            "   ---------------------------------------- 56.3/56.3 kB 3.1 MB/s eta 0:00:00\n",
            "Downloading MarkupSafe-2.1.3-cp312-cp312-win_amd64.whl (16 kB)\n",
            "Building wheels for collected packages: backtesting\n",
            "  Building wheel for backtesting (pyproject.toml): started\n",
            "  Building wheel for backtesting (pyproject.toml): finished with status 'done'\n",
            "  Created wheel for backtesting: filename=Backtesting-0.3.3-py3-none-any.whl size=173964 sha256=78602ed7b422e49750ad7ef810e2dad5e8e0ade6d3307d1ba75715605ed3dadd\n",
            "  Stored in directory: c:\\users\\xz035\\appdata\\local\\pip\\cache\\wheels\\b6\\46\\69\\c2cb2ec77dea61c5ff9e68534250c3bc8e85f6fdb9ca69f31d\n",
            "Successfully built backtesting\n",
            "Installing collected packages: xyzservices, PyYAML, MarkupSafe, Jinja2, bokeh, backtesting\n",
            "Successfully installed Jinja2-3.1.2 MarkupSafe-2.1.3 PyYAML-6.0.1 backtesting-0.3.3 bokeh-3.3.0 xyzservices-2023.10.1\n"
          ]
        },
        {
          "name": "stderr",
          "output_type": "stream",
          "text": [
            "\n",
            "[notice] A new release of pip is available: 23.2.1 -> 23.3.1\n",
            "[notice] To update, run: python.exe -m pip install --upgrade pip\n"
          ]
        }
      ],
      "source": [
        "!pip install backtesting"
      ]
    },
    {
      "cell_type": "code",
      "execution_count": 2,
      "metadata": {
        "id": "6FK6BSbOjCGI"
      },
      "outputs": [],
      "source": [
        "import pandas as pd\n"
      ]
    },
    {
      "cell_type": "code",
      "execution_count": 3,
      "metadata": {
        "colab": {
          "base_uri": "https://localhost:8080/",
          "height": 261
        },
        "id": "pvwZGujcjjwk",
        "outputId": "8f62483a-b008-44ca-e6c9-73baf20e6fdd"
      },
      "outputs": [
        {
          "name": "stderr",
          "output_type": "stream",
          "text": [
            "C:\\Users\\xz035\\AppData\\Roaming\\Python\\Python312\\site-packages\\tqdm\\auto.py:21: TqdmWarning: IProgress not found. Please update jupyter and ipywidgets. See https://ipywidgets.readthedocs.io/en/stable/user_install.html\n",
            "  from .autonotebook import tqdm as notebook_tqdm\n",
            "C:\\Users\\xz035\\AppData\\Roaming\\Python\\Python312\\site-packages\\backtesting\\test\\__init__.py:8: FutureWarning: The argument 'infer_datetime_format' is deprecated and will be removed in a future version. A strict version of it is now the default, see https://pandas.pydata.org/pdeps/0004-consistent-to-datetime-parsing.html. You can safely remove this argument.\n",
            "  return pd.read_csv(join(dirname(__file__), filename),\n",
            "C:\\Users\\xz035\\AppData\\Roaming\\Python\\Python312\\site-packages\\backtesting\\test\\__init__.py:8: FutureWarning: The argument 'infer_datetime_format' is deprecated and will be removed in a future version. A strict version of it is now the default, see https://pandas.pydata.org/pdeps/0004-consistent-to-datetime-parsing.html. You can safely remove this argument.\n",
            "  return pd.read_csv(join(dirname(__file__), filename),\n"
          ]
        },
        {
          "data": {
            "text/html": [
              "<div>\n",
              "<style scoped>\n",
              "    .dataframe tbody tr th:only-of-type {\n",
              "        vertical-align: middle;\n",
              "    }\n",
              "\n",
              "    .dataframe tbody tr th {\n",
              "        vertical-align: top;\n",
              "    }\n",
              "\n",
              "    .dataframe thead th {\n",
              "        text-align: right;\n",
              "    }\n",
              "</style>\n",
              "<table border=\"1\" class=\"dataframe\">\n",
              "  <thead>\n",
              "    <tr style=\"text-align: right;\">\n",
              "      <th></th>\n",
              "      <th>Open</th>\n",
              "      <th>High</th>\n",
              "      <th>Low</th>\n",
              "      <th>Close</th>\n",
              "      <th>Volume</th>\n",
              "    </tr>\n",
              "  </thead>\n",
              "  <tbody>\n",
              "    <tr>\n",
              "      <th>2013-02-25</th>\n",
              "      <td>802.3</td>\n",
              "      <td>808.41</td>\n",
              "      <td>790.49</td>\n",
              "      <td>790.77</td>\n",
              "      <td>2303900</td>\n",
              "    </tr>\n",
              "    <tr>\n",
              "      <th>2013-02-26</th>\n",
              "      <td>795.0</td>\n",
              "      <td>795.95</td>\n",
              "      <td>784.40</td>\n",
              "      <td>790.13</td>\n",
              "      <td>2202500</td>\n",
              "    </tr>\n",
              "    <tr>\n",
              "      <th>2013-02-27</th>\n",
              "      <td>794.8</td>\n",
              "      <td>804.75</td>\n",
              "      <td>791.11</td>\n",
              "      <td>799.78</td>\n",
              "      <td>2026100</td>\n",
              "    </tr>\n",
              "    <tr>\n",
              "      <th>2013-02-28</th>\n",
              "      <td>801.1</td>\n",
              "      <td>806.99</td>\n",
              "      <td>801.03</td>\n",
              "      <td>801.20</td>\n",
              "      <td>2265800</td>\n",
              "    </tr>\n",
              "    <tr>\n",
              "      <th>2013-03-01</th>\n",
              "      <td>797.8</td>\n",
              "      <td>807.14</td>\n",
              "      <td>796.15</td>\n",
              "      <td>806.19</td>\n",
              "      <td>2175400</td>\n",
              "    </tr>\n",
              "  </tbody>\n",
              "</table>\n",
              "</div>"
            ],
            "text/plain": [
              "             Open    High     Low   Close   Volume\n",
              "2013-02-25  802.3  808.41  790.49  790.77  2303900\n",
              "2013-02-26  795.0  795.95  784.40  790.13  2202500\n",
              "2013-02-27  794.8  804.75  791.11  799.78  2026100\n",
              "2013-02-28  801.1  806.99  801.03  801.20  2265800\n",
              "2013-03-01  797.8  807.14  796.15  806.19  2175400"
            ]
          },
          "execution_count": 3,
          "metadata": {},
          "output_type": "execute_result"
        }
      ],
      "source": [
        "# Example OHLC daily data for Google Inc.\n",
        "from backtesting.test import GOOG\n",
        "\n",
        "GOOG.tail()\n"
      ]
    },
    {
      "cell_type": "code",
      "execution_count": 4,
      "metadata": {
        "id": "VV5tHfMfmIH-"
      },
      "outputs": [],
      "source": [
        "def SMA(values, n):\n",
        "    \"\"\"\n",
        "    Return simple moving average of `values`, at\n",
        "    each step taking into account `n` previous values.\n",
        "    \"\"\"\n",
        "    return pd.Series(values).rolling(n).mean()"
      ]
    },
    {
      "cell_type": "code",
      "execution_count": 5,
      "metadata": {
        "id": "cyxC7_b5murt"
      },
      "outputs": [],
      "source": [
        "from backtesting import Strategy\n",
        "from backtesting.lib import crossover\n",
        "\n",
        "\n",
        "class SmaCross(Strategy):\n",
        "    # Define the two MA lags as *class variables*\n",
        "    # for later optimization\n",
        "    n1 = 10\n",
        "    n2 = 20\n",
        "\n",
        "    def init(self):\n",
        "        # Precompute the two moving averages\n",
        "        self.sma1 = self.I(SMA, self.data.Close, self.n1)\n",
        "        self.sma2 = self.I(SMA, self.data.Close, self.n2)\n",
        "\n",
        "    def next(self):\n",
        "        # If sma1 crosses above sma2, close any existing\n",
        "        # short trades, and buy the asset\n",
        "        if crossover(self.sma1, self.sma2):\n",
        "            self.position.close()\n",
        "            self.buy()\n",
        "\n",
        "        # Else, if sma1 crosses below sma2, close any existing\n",
        "        # long trades, and sell the asset\n",
        "        elif crossover(self.sma2, self.sma1):\n",
        "            self.position.close()\n",
        "            self.sell()"
      ]
    },
    {
      "cell_type": "code",
      "execution_count": 7,
      "metadata": {
        "colab": {
          "base_uri": "https://localhost:8080/"
        },
        "id": "jwVxjE2Am1TN",
        "outputId": "513902e0-183e-49d7-fed8-6be0ed5f4f99"
      },
      "outputs": [
        {
          "name": "stdout",
          "output_type": "stream",
          "text": [
            "Couldn't find program: 'echo'\n"
          ]
        }
      ],
      "source": [
        "%%script echo\n",
        "\n",
        "    def next(self):\n",
        "        if (self.sma1[-2] < self.sma2[-2] and\n",
        "                self.sma1[-1] > self.sma2[-1]):\n",
        "            self.position.close()\n",
        "            self.buy()\n",
        "\n",
        "        elif (self.sma1[-2] > self.sma2[-2] and    # Ugh!\n",
        "              self.sma1[-1] < self.sma2[-1]):\n",
        "            self.position.close()\n",
        "            self.sell()"
      ]
    },
    {
      "cell_type": "code",
      "execution_count": 8,
      "metadata": {
        "colab": {
          "base_uri": "https://localhost:8080/"
        },
        "id": "xgFv7RENjldU",
        "outputId": "17255fb3-f556-4605-c15f-412e1b698d82"
      },
      "outputs": [
        {
          "data": {
            "text/plain": [
              "Start                     2004-08-19 00:00:00\n",
              "End                       2013-03-01 00:00:00\n",
              "Duration                   3116 days 00:00:00\n",
              "Exposure Time [%]                   97.067039\n",
              "Equity Final [$]                  68221.96986\n",
              "Equity Peak [$]                   68991.21986\n",
              "Return [%]                         582.219699\n",
              "Buy & Hold Return [%]              703.458242\n",
              "Return (Ann.) [%]                   25.266427\n",
              "Volatility (Ann.) [%]               38.383008\n",
              "Sharpe Ratio                         0.658271\n",
              "Sortino Ratio                        1.288779\n",
              "Calmar Ratio                         0.763748\n",
              "Max. Drawdown [%]                  -33.082172\n",
              "Avg. Drawdown [%]                   -5.581506\n",
              "Max. Drawdown Duration      688 days 00:00:00\n",
              "Avg. Drawdown Duration       41 days 00:00:00\n",
              "# Trades                                   94\n",
              "Win Rate [%]                        54.255319\n",
              "Best Trade [%]                       57.11931\n",
              "Worst Trade [%]                    -16.629898\n",
              "Avg. Trade [%]                       2.074326\n",
              "Max. Trade Duration         121 days 00:00:00\n",
              "Avg. Trade Duration          33 days 00:00:00\n",
              "Profit Factor                        2.190805\n",
              "Expectancy [%]                       2.606294\n",
              "SQN                                  1.990216\n",
              "_strategy                            SmaCross\n",
              "_equity_curve                             ...\n",
              "_trades                       Size  EntryB...\n",
              "dtype: object"
            ]
          },
          "execution_count": 8,
          "metadata": {},
          "output_type": "execute_result"
        }
      ],
      "source": [
        "from backtesting import Backtest\n",
        "\n",
        "bt = Backtest(GOOG, SmaCross, cash=10_000, commission=.002)\n",
        "stats = bt.run()\n",
        "stats"
      ]
    },
    {
      "cell_type": "code",
      "execution_count": 9,
      "metadata": {
        "colab": {
          "base_uri": "https://localhost:8080/"
        },
        "id": "Y41drUyFnkzq",
        "outputId": "c005d9d2-0d7f-402c-f56e-67fae7294dcb"
      },
      "outputs": [
        {
          "data": {
            "text/plain": [
              "<Strategy SmaCross>"
            ]
          },
          "execution_count": 9,
          "metadata": {},
          "output_type": "execute_result"
        }
      ],
      "source": [
        "stats._strategy"
      ]
    },
    {
      "cell_type": "code",
      "execution_count": 10,
      "metadata": {
        "colab": {
          "base_uri": "https://localhost:8080/",
          "height": 494
        },
        "id": "77qkGIVDnGFy",
        "outputId": "5e592abc-d125-420b-b1f9-cec7fa85a5c5"
      },
      "outputs": [
        {
          "name": "stderr",
          "output_type": "stream",
          "text": [
            "BokehDeprecationWarning: Passing lists of formats for DatetimeTickFormatter scales was deprecated in Bokeh 3.0. Configure a single string format for each scale\n",
            "C:\\Users\\xz035\\AppData\\Roaming\\Python\\Python312\\site-packages\\backtesting\\_plotting.py:250: UserWarning: DatetimeFormatter scales now only accept a single format. Using the first provided: '%d %b'\n",
            "  formatter=DatetimeTickFormatter(days=['%d %b', '%a %d'],\n",
            "BokehDeprecationWarning: Passing lists of formats for DatetimeTickFormatter scales was deprecated in Bokeh 3.0. Configure a single string format for each scale\n",
            "C:\\Users\\xz035\\AppData\\Roaming\\Python\\Python312\\site-packages\\backtesting\\_plotting.py:250: UserWarning: DatetimeFormatter scales now only accept a single format. Using the first provided: '%m/%Y'\n",
            "  formatter=DatetimeTickFormatter(days=['%d %b', '%a %d'],\n",
            "C:\\Users\\xz035\\AppData\\Roaming\\Python\\Python312\\site-packages\\backtesting\\_plotting.py:659: UserWarning: found multiple competing values for 'toolbar.active_drag' property; using the latest value\n",
            "  fig = gridplot(\n",
            "C:\\Users\\xz035\\AppData\\Roaming\\Python\\Python312\\site-packages\\backtesting\\_plotting.py:659: UserWarning: found multiple competing values for 'toolbar.active_scroll' property; using the latest value\n",
            "  fig = gridplot(\n"
          ]
        },
        {
          "data": {
            "text/html": [
              "<div style=\"display: table;\"><div style=\"display: table-row;\"><div style=\"display: table-cell;\"><b title=\"bokeh.models.plots.GridPlot\">GridPlot</b>(</div><div style=\"display: table-cell;\">id&nbsp;=&nbsp;'p1309', <span id=\"p1341\" style=\"cursor: pointer;\">&hellip;)</span></div></div><div class=\"p1340\" style=\"display: none;\"><div style=\"display: table-cell;\"></div><div style=\"display: table-cell;\">align&nbsp;=&nbsp;'auto',</div></div><div class=\"p1340\" style=\"display: none;\"><div style=\"display: table-cell;\"></div><div style=\"display: table-cell;\">aspect_ratio&nbsp;=&nbsp;None,</div></div><div class=\"p1340\" style=\"display: none;\"><div style=\"display: table-cell;\"></div><div style=\"display: table-cell;\">children&nbsp;=&nbsp;[(figure(id='p1042', ...), 0, 0), (figure(id='p1135', ...), 1, 0), (figure(id='p1002', ...), 2, 0), (figure(id='p1186', ...), 3, 0)],</div></div><div class=\"p1340\" style=\"display: none;\"><div style=\"display: table-cell;\"></div><div style=\"display: table-cell;\">cols&nbsp;=&nbsp;None,</div></div><div class=\"p1340\" style=\"display: none;\"><div style=\"display: table-cell;\"></div><div style=\"display: table-cell;\">context_menu&nbsp;=&nbsp;None,</div></div><div class=\"p1340\" style=\"display: none;\"><div style=\"display: table-cell;\"></div><div style=\"display: table-cell;\">css_classes&nbsp;=&nbsp;[],</div></div><div class=\"p1340\" style=\"display: none;\"><div style=\"display: table-cell;\"></div><div style=\"display: table-cell;\">disabled&nbsp;=&nbsp;False,</div></div><div class=\"p1340\" style=\"display: none;\"><div style=\"display: table-cell;\"></div><div style=\"display: table-cell;\">flow_mode&nbsp;=&nbsp;'block',</div></div><div class=\"p1340\" style=\"display: none;\"><div style=\"display: table-cell;\"></div><div style=\"display: table-cell;\">height&nbsp;=&nbsp;None,</div></div><div class=\"p1340\" style=\"display: none;\"><div style=\"display: table-cell;\"></div><div style=\"display: table-cell;\">height_policy&nbsp;=&nbsp;'auto',</div></div><div class=\"p1340\" style=\"display: none;\"><div style=\"display: table-cell;\"></div><div style=\"display: table-cell;\">js_event_callbacks&nbsp;=&nbsp;{},</div></div><div class=\"p1340\" style=\"display: none;\"><div style=\"display: table-cell;\"></div><div style=\"display: table-cell;\">js_property_callbacks&nbsp;=&nbsp;{},</div></div><div class=\"p1340\" style=\"display: none;\"><div style=\"display: table-cell;\"></div><div style=\"display: table-cell;\">margin&nbsp;=&nbsp;None,</div></div><div class=\"p1340\" style=\"display: none;\"><div style=\"display: table-cell;\"></div><div style=\"display: table-cell;\">max_height&nbsp;=&nbsp;None,</div></div><div class=\"p1340\" style=\"display: none;\"><div style=\"display: table-cell;\"></div><div style=\"display: table-cell;\">max_width&nbsp;=&nbsp;None,</div></div><div class=\"p1340\" style=\"display: none;\"><div style=\"display: table-cell;\"></div><div style=\"display: table-cell;\">min_height&nbsp;=&nbsp;None,</div></div><div class=\"p1340\" style=\"display: none;\"><div style=\"display: table-cell;\"></div><div style=\"display: table-cell;\">min_width&nbsp;=&nbsp;None,</div></div><div class=\"p1340\" style=\"display: none;\"><div style=\"display: table-cell;\"></div><div style=\"display: table-cell;\">name&nbsp;=&nbsp;None,</div></div><div class=\"p1340\" style=\"display: none;\"><div style=\"display: table-cell;\"></div><div style=\"display: table-cell;\">resizable&nbsp;=&nbsp;False,</div></div><div class=\"p1340\" style=\"display: none;\"><div style=\"display: table-cell;\"></div><div style=\"display: table-cell;\">rows&nbsp;=&nbsp;None,</div></div><div class=\"p1340\" style=\"display: none;\"><div style=\"display: table-cell;\"></div><div style=\"display: table-cell;\">sizing_mode&nbsp;=&nbsp;'stretch_width',</div></div><div class=\"p1340\" style=\"display: none;\"><div style=\"display: table-cell;\"></div><div style=\"display: table-cell;\">spacing&nbsp;=&nbsp;0,</div></div><div class=\"p1340\" style=\"display: none;\"><div style=\"display: table-cell;\"></div><div style=\"display: table-cell;\">styles&nbsp;=&nbsp;{},</div></div><div class=\"p1340\" style=\"display: none;\"><div style=\"display: table-cell;\"></div><div style=\"display: table-cell;\">stylesheets&nbsp;=&nbsp;[],</div></div><div class=\"p1340\" style=\"display: none;\"><div style=\"display: table-cell;\"></div><div style=\"display: table-cell;\">subscribed_events&nbsp;=&nbsp;PropertyValueSet(),</div></div><div class=\"p1340\" style=\"display: none;\"><div style=\"display: table-cell;\"></div><div style=\"display: table-cell;\">syncable&nbsp;=&nbsp;True,</div></div><div class=\"p1340\" style=\"display: none;\"><div style=\"display: table-cell;\"></div><div style=\"display: table-cell;\">tags&nbsp;=&nbsp;[],</div></div><div class=\"p1340\" style=\"display: none;\"><div style=\"display: table-cell;\"></div><div style=\"display: table-cell;\">toolbar&nbsp;=&nbsp;Toolbar(id='p1308', ...),</div></div><div class=\"p1340\" style=\"display: none;\"><div style=\"display: table-cell;\"></div><div style=\"display: table-cell;\">toolbar_location&nbsp;=&nbsp;'right',</div></div><div class=\"p1340\" style=\"display: none;\"><div style=\"display: table-cell;\"></div><div style=\"display: table-cell;\">visible&nbsp;=&nbsp;True,</div></div><div class=\"p1340\" style=\"display: none;\"><div style=\"display: table-cell;\"></div><div style=\"display: table-cell;\">width&nbsp;=&nbsp;None,</div></div><div class=\"p1340\" style=\"display: none;\"><div style=\"display: table-cell;\"></div><div style=\"display: table-cell;\">width_policy&nbsp;=&nbsp;'auto')</div></div></div>\n",
              "<script>\n",
              "(function() {\n",
              "  let expanded = false;\n",
              "  const ellipsis = document.getElementById(\"p1341\");\n",
              "  ellipsis.addEventListener(\"click\", function() {\n",
              "    const rows = document.getElementsByClassName(\"p1340\");\n",
              "    for (let i = 0; i < rows.length; i++) {\n",
              "      const el = rows[i];\n",
              "      el.style.display = expanded ? \"none\" : \"table-row\";\n",
              "    }\n",
              "    ellipsis.innerHTML = expanded ? \"&hellip;)\" : \"&lsaquo;&lsaquo;&lsaquo;\";\n",
              "    expanded = !expanded;\n",
              "  });\n",
              "})();\n",
              "</script>\n"
            ],
            "text/plain": [
              "GridPlot(id='p1309', ...)"
            ]
          },
          "execution_count": 10,
          "metadata": {},
          "output_type": "execute_result"
        }
      ],
      "source": [
        "bt.plot()"
      ]
    },
    {
      "cell_type": "code",
      "execution_count": 11,
      "metadata": {
        "colab": {
          "base_uri": "https://localhost:8080/"
        },
        "id": "x2brTzwEoSAP",
        "outputId": "a6c680fa-e801-4257-b006-7f8f4e9d86f0"
      },
      "outputs": [
        {
          "data": {
            "text/plain": [
              "Expectancy [%]                                             2.606294\n",
              "SQN                                                        1.990216\n",
              "_strategy                                                  SmaCross\n",
              "_equity_curve                      Equity  DrawdownPct DrawdownD...\n",
              "_trades               Size  EntryBar  ExitBar  EntryPrice  ExitP...\n",
              "dtype: object"
            ]
          },
          "execution_count": 11,
          "metadata": {},
          "output_type": "execute_result"
        }
      ],
      "source": [
        "stats.tail()"
      ]
    },
    {
      "cell_type": "code",
      "execution_count": 12,
      "metadata": {
        "colab": {
          "base_uri": "https://localhost:8080/",
          "height": 424
        },
        "id": "6-mjS2KPocjz",
        "outputId": "94638165-b366-40ef-e2af-99389d0d23d0"
      },
      "outputs": [
        {
          "data": {
            "text/html": [
              "<div>\n",
              "<style scoped>\n",
              "    .dataframe tbody tr th:only-of-type {\n",
              "        vertical-align: middle;\n",
              "    }\n",
              "\n",
              "    .dataframe tbody tr th {\n",
              "        vertical-align: top;\n",
              "    }\n",
              "\n",
              "    .dataframe thead th {\n",
              "        text-align: right;\n",
              "    }\n",
              "</style>\n",
              "<table border=\"1\" class=\"dataframe\">\n",
              "  <thead>\n",
              "    <tr style=\"text-align: right;\">\n",
              "      <th></th>\n",
              "      <th>Equity</th>\n",
              "      <th>DrawdownPct</th>\n",
              "      <th>DrawdownDuration</th>\n",
              "    </tr>\n",
              "  </thead>\n",
              "  <tbody>\n",
              "    <tr>\n",
              "      <th>2004-08-19</th>\n",
              "      <td>10000.00000</td>\n",
              "      <td>0.000000</td>\n",
              "      <td>NaT</td>\n",
              "    </tr>\n",
              "    <tr>\n",
              "      <th>2004-08-20</th>\n",
              "      <td>10000.00000</td>\n",
              "      <td>0.000000</td>\n",
              "      <td>NaT</td>\n",
              "    </tr>\n",
              "    <tr>\n",
              "      <th>2004-08-23</th>\n",
              "      <td>10000.00000</td>\n",
              "      <td>0.000000</td>\n",
              "      <td>NaT</td>\n",
              "    </tr>\n",
              "    <tr>\n",
              "      <th>2004-08-24</th>\n",
              "      <td>10000.00000</td>\n",
              "      <td>0.000000</td>\n",
              "      <td>NaT</td>\n",
              "    </tr>\n",
              "    <tr>\n",
              "      <th>2004-08-25</th>\n",
              "      <td>10000.00000</td>\n",
              "      <td>0.000000</td>\n",
              "      <td>NaT</td>\n",
              "    </tr>\n",
              "    <tr>\n",
              "      <th>...</th>\n",
              "      <td>...</td>\n",
              "      <td>...</td>\n",
              "      <td>...</td>\n",
              "    </tr>\n",
              "    <tr>\n",
              "      <th>2013-02-25</th>\n",
              "      <td>67624.41986</td>\n",
              "      <td>0.019811</td>\n",
              "      <td>NaT</td>\n",
              "    </tr>\n",
              "    <tr>\n",
              "      <th>2013-02-26</th>\n",
              "      <td>67570.01986</td>\n",
              "      <td>0.020600</td>\n",
              "      <td>NaT</td>\n",
              "    </tr>\n",
              "    <tr>\n",
              "      <th>2013-02-27</th>\n",
              "      <td>68390.26986</td>\n",
              "      <td>0.008711</td>\n",
              "      <td>NaT</td>\n",
              "    </tr>\n",
              "    <tr>\n",
              "      <th>2013-02-28</th>\n",
              "      <td>68510.96986</td>\n",
              "      <td>0.006961</td>\n",
              "      <td>NaT</td>\n",
              "    </tr>\n",
              "    <tr>\n",
              "      <th>2013-03-01</th>\n",
              "      <td>68221.96986</td>\n",
              "      <td>0.011150</td>\n",
              "      <td>10 days</td>\n",
              "    </tr>\n",
              "  </tbody>\n",
              "</table>\n",
              "<p>2148 rows × 3 columns</p>\n",
              "</div>"
            ],
            "text/plain": [
              "                 Equity  DrawdownPct DrawdownDuration\n",
              "2004-08-19  10000.00000     0.000000              NaT\n",
              "2004-08-20  10000.00000     0.000000              NaT\n",
              "2004-08-23  10000.00000     0.000000              NaT\n",
              "2004-08-24  10000.00000     0.000000              NaT\n",
              "2004-08-25  10000.00000     0.000000              NaT\n",
              "...                 ...          ...              ...\n",
              "2013-02-25  67624.41986     0.019811              NaT\n",
              "2013-02-26  67570.01986     0.020600              NaT\n",
              "2013-02-27  68390.26986     0.008711              NaT\n",
              "2013-02-28  68510.96986     0.006961              NaT\n",
              "2013-03-01  68221.96986     0.011150          10 days\n",
              "\n",
              "[2148 rows x 3 columns]"
            ]
          },
          "execution_count": 12,
          "metadata": {},
          "output_type": "execute_result"
        }
      ],
      "source": [
        "stats['_equity_curve']"
      ]
    },
    {
      "cell_type": "code",
      "execution_count": 13,
      "metadata": {
        "colab": {
          "base_uri": "https://localhost:8080/",
          "height": 424
        },
        "id": "YMlFYw3QojgZ",
        "outputId": "44816397-60d4-496b-ba0f-ad161e76a07f"
      },
      "outputs": [
        {
          "data": {
            "text/html": [
              "<div>\n",
              "<style scoped>\n",
              "    .dataframe tbody tr th:only-of-type {\n",
              "        vertical-align: middle;\n",
              "    }\n",
              "\n",
              "    .dataframe tbody tr th {\n",
              "        vertical-align: top;\n",
              "    }\n",
              "\n",
              "    .dataframe thead th {\n",
              "        text-align: right;\n",
              "    }\n",
              "</style>\n",
              "<table border=\"1\" class=\"dataframe\">\n",
              "  <thead>\n",
              "    <tr style=\"text-align: right;\">\n",
              "      <th></th>\n",
              "      <th>Size</th>\n",
              "      <th>EntryBar</th>\n",
              "      <th>ExitBar</th>\n",
              "      <th>EntryPrice</th>\n",
              "      <th>ExitPrice</th>\n",
              "      <th>PnL</th>\n",
              "      <th>ReturnPct</th>\n",
              "      <th>EntryTime</th>\n",
              "      <th>ExitTime</th>\n",
              "      <th>Duration</th>\n",
              "    </tr>\n",
              "  </thead>\n",
              "  <tbody>\n",
              "    <tr>\n",
              "      <th>0</th>\n",
              "      <td>-59</td>\n",
              "      <td>63</td>\n",
              "      <td>75</td>\n",
              "      <td>168.68196</td>\n",
              "      <td>179.13</td>\n",
              "      <td>-616.43436</td>\n",
              "      <td>-0.061939</td>\n",
              "      <td>2004-11-17</td>\n",
              "      <td>2004-12-06</td>\n",
              "      <td>19 days</td>\n",
              "    </tr>\n",
              "    <tr>\n",
              "      <th>1</th>\n",
              "      <td>52</td>\n",
              "      <td>75</td>\n",
              "      <td>85</td>\n",
              "      <td>179.48826</td>\n",
              "      <td>182.00</td>\n",
              "      <td>130.61048</td>\n",
              "      <td>0.013994</td>\n",
              "      <td>2004-12-06</td>\n",
              "      <td>2004-12-20</td>\n",
              "      <td>14 days</td>\n",
              "    </tr>\n",
              "    <tr>\n",
              "      <th>2</th>\n",
              "      <td>-52</td>\n",
              "      <td>85</td>\n",
              "      <td>88</td>\n",
              "      <td>181.63600</td>\n",
              "      <td>187.45</td>\n",
              "      <td>-302.32800</td>\n",
              "      <td>-0.032009</td>\n",
              "      <td>2004-12-20</td>\n",
              "      <td>2004-12-23</td>\n",
              "      <td>3 days</td>\n",
              "    </tr>\n",
              "    <tr>\n",
              "      <th>3</th>\n",
              "      <td>49</td>\n",
              "      <td>88</td>\n",
              "      <td>110</td>\n",
              "      <td>187.82490</td>\n",
              "      <td>179.27</td>\n",
              "      <td>-419.19010</td>\n",
              "      <td>-0.045547</td>\n",
              "      <td>2004-12-23</td>\n",
              "      <td>2005-01-26</td>\n",
              "      <td>34 days</td>\n",
              "    </tr>\n",
              "    <tr>\n",
              "      <th>4</th>\n",
              "      <td>-49</td>\n",
              "      <td>110</td>\n",
              "      <td>119</td>\n",
              "      <td>178.91146</td>\n",
              "      <td>196.96</td>\n",
              "      <td>-884.37846</td>\n",
              "      <td>-0.100880</td>\n",
              "      <td>2005-01-26</td>\n",
              "      <td>2005-02-08</td>\n",
              "      <td>13 days</td>\n",
              "    </tr>\n",
              "    <tr>\n",
              "      <th>...</th>\n",
              "      <td>...</td>\n",
              "      <td>...</td>\n",
              "      <td>...</td>\n",
              "      <td>...</td>\n",
              "      <td>...</td>\n",
              "      <td>...</td>\n",
              "      <td>...</td>\n",
              "      <td>...</td>\n",
              "      <td>...</td>\n",
              "      <td>...</td>\n",
              "    </tr>\n",
              "    <tr>\n",
              "      <th>89</th>\n",
              "      <td>82</td>\n",
              "      <td>1947</td>\n",
              "      <td>1960</td>\n",
              "      <td>611.57070</td>\n",
              "      <td>588.72</td>\n",
              "      <td>-1873.75740</td>\n",
              "      <td>-0.037364</td>\n",
              "      <td>2012-05-11</td>\n",
              "      <td>2012-05-31</td>\n",
              "      <td>20 days</td>\n",
              "    </tr>\n",
              "    <tr>\n",
              "      <th>90</th>\n",
              "      <td>-83</td>\n",
              "      <td>1960</td>\n",
              "      <td>1983</td>\n",
              "      <td>587.54256</td>\n",
              "      <td>580.01</td>\n",
              "      <td>625.20248</td>\n",
              "      <td>0.012820</td>\n",
              "      <td>2012-05-31</td>\n",
              "      <td>2012-07-03</td>\n",
              "      <td>33 days</td>\n",
              "    </tr>\n",
              "    <tr>\n",
              "      <th>91</th>\n",
              "      <td>85</td>\n",
              "      <td>1983</td>\n",
              "      <td>2059</td>\n",
              "      <td>581.17002</td>\n",
              "      <td>705.58</td>\n",
              "      <td>10574.84830</td>\n",
              "      <td>0.214068</td>\n",
              "      <td>2012-07-03</td>\n",
              "      <td>2012-10-19</td>\n",
              "      <td>108 days</td>\n",
              "    </tr>\n",
              "    <tr>\n",
              "      <th>92</th>\n",
              "      <td>-85</td>\n",
              "      <td>2059</td>\n",
              "      <td>2087</td>\n",
              "      <td>704.16884</td>\n",
              "      <td>702.24</td>\n",
              "      <td>163.95140</td>\n",
              "      <td>0.002739</td>\n",
              "      <td>2012-10-19</td>\n",
              "      <td>2012-12-03</td>\n",
              "      <td>45 days</td>\n",
              "    </tr>\n",
              "    <tr>\n",
              "      <th>93</th>\n",
              "      <td>85</td>\n",
              "      <td>2087</td>\n",
              "      <td>2147</td>\n",
              "      <td>703.64448</td>\n",
              "      <td>797.80</td>\n",
              "      <td>8003.21920</td>\n",
              "      <td>0.133811</td>\n",
              "      <td>2012-12-03</td>\n",
              "      <td>2013-03-01</td>\n",
              "      <td>88 days</td>\n",
              "    </tr>\n",
              "  </tbody>\n",
              "</table>\n",
              "<p>94 rows × 10 columns</p>\n",
              "</div>"
            ],
            "text/plain": [
              "    Size  EntryBar  ExitBar  EntryPrice  ExitPrice          PnL  ReturnPct  \\\n",
              "0    -59        63       75   168.68196     179.13   -616.43436  -0.061939   \n",
              "1     52        75       85   179.48826     182.00    130.61048   0.013994   \n",
              "2    -52        85       88   181.63600     187.45   -302.32800  -0.032009   \n",
              "3     49        88      110   187.82490     179.27   -419.19010  -0.045547   \n",
              "4    -49       110      119   178.91146     196.96   -884.37846  -0.100880   \n",
              "..   ...       ...      ...         ...        ...          ...        ...   \n",
              "89    82      1947     1960   611.57070     588.72  -1873.75740  -0.037364   \n",
              "90   -83      1960     1983   587.54256     580.01    625.20248   0.012820   \n",
              "91    85      1983     2059   581.17002     705.58  10574.84830   0.214068   \n",
              "92   -85      2059     2087   704.16884     702.24    163.95140   0.002739   \n",
              "93    85      2087     2147   703.64448     797.80   8003.21920   0.133811   \n",
              "\n",
              "    EntryTime   ExitTime Duration  \n",
              "0  2004-11-17 2004-12-06  19 days  \n",
              "1  2004-12-06 2004-12-20  14 days  \n",
              "2  2004-12-20 2004-12-23   3 days  \n",
              "3  2004-12-23 2005-01-26  34 days  \n",
              "4  2005-01-26 2005-02-08  13 days  \n",
              "..        ...        ...      ...  \n",
              "89 2012-05-11 2012-05-31  20 days  \n",
              "90 2012-05-31 2012-07-03  33 days  \n",
              "91 2012-07-03 2012-10-19 108 days  \n",
              "92 2012-10-19 2012-12-03  45 days  \n",
              "93 2012-12-03 2013-03-01  88 days  \n",
              "\n",
              "[94 rows x 10 columns]"
            ]
          },
          "execution_count": 13,
          "metadata": {},
          "output_type": "execute_result"
        }
      ],
      "source": [
        "stats['_trades']"
      ]
    }
  ],
  "metadata": {
    "colab": {
      "provenance": []
    },
    "kernelspec": {
      "display_name": "Python 3",
      "name": "python3"
    },
    "language_info": {
      "codemirror_mode": {
        "name": "ipython",
        "version": 3
      },
      "file_extension": ".py",
      "mimetype": "text/x-python",
      "name": "python",
      "nbconvert_exporter": "python",
      "pygments_lexer": "ipython3",
      "version": "3.12.0"
    }
  },
  "nbformat": 4,
  "nbformat_minor": 0
}
